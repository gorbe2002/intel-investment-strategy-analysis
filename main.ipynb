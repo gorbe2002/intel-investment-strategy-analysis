{
 "cells": [
  {
   "cell_type": "markdown",
   "metadata": {},
   "source": [
    "# Intel Investment Strategy Analysis"
   ]
  },
  {
   "cell_type": "code",
   "execution_count": null,
   "metadata": {},
   "outputs": [
    {
     "name": "stderr",
     "output_type": "stream",
     "text": [
      "[*********************100%***********************]  1 of 1 completed\n",
      "[*********************100%***********************]  1 of 1 completed\n",
      "[*********************100%***********************]  1 of 1 completed\n",
      "[*********************100%***********************]  1 of 1 completed"
     ]
    },
    {
     "name": "stdout",
     "output_type": "stream",
     "text": [
      "Date\n",
      "2019-12-04    49.414783\n",
      "2019-12-05    49.467709\n",
      "2019-12-06    50.111633\n",
      "2019-12-09    49.864651\n",
      "2019-12-10    49.917580\n",
      "Name: INTC, dtype: float64\n",
      "                  AMD      NVDA       QCOM\n",
      "Date                                      \n",
      "2019-12-04  39.689999  5.214002  73.852318\n",
      "2019-12-05  39.619999  5.197072  74.311203\n",
      "2019-12-06  39.630001  5.282471  75.417908\n",
      "2019-12-09  38.930000  5.282471  76.407646\n",
      "2019-12-10  39.439999  5.327535  75.687843\n"
     ]
    },
    {
     "name": "stderr",
     "output_type": "stream",
     "text": [
      "\n"
     ]
    }
   ],
   "source": [
    "import numpy as np\n",
    "import pandas as pd\n",
    "from pandas_datareader import data as wb\n",
    "import matplotlib.pyplot as plt\n",
    "import yfinance as yf\n",
    "\n",
    "# load data w/ competitors\n",
    "companies = [\"INTC\", \"AMD\", \"NVDA\", \"QCOM\"]\n",
    "df = pd.DataFrame()\n",
    "\n",
    "for t in companies:\n",
    "    df[t] = yf.download(t, period=\"5y\")[\"Adj Close\"]\n",
    "# print(df.head())\n",
    "\n",
    "# separate Intel and its competitors\n",
    "intel_df = df[\"INTC\"]\n",
    "competitors_df = df[[\"AMD\", \"NVDA\", \"QCOM\"]]\n",
    "# print(intel_df.head())\n",
    "# print(competitors_df.head())"
   ]
  },
  {
   "cell_type": "markdown",
   "metadata": {},
   "source": [
    "## Financial Highlights and Projections"
   ]
  },
  {
   "cell_type": "code",
   "execution_count": null,
   "metadata": {},
   "outputs": [
    {
     "name": "stdout",
     "output_type": "stream",
     "text": [
      "Simple returns:\n",
      "                INTC       AMD      NVDA      QCOM\n",
      "Date                                              \n",
      "2019-12-04       NaN       NaN       NaN       NaN\n",
      "2019-12-05  0.001071 -0.001764 -0.003247  0.006214\n",
      "2019-12-06  0.013017  0.000252  0.016432  0.014893\n",
      "2019-12-09 -0.004929 -0.017663  0.000000  0.013123\n",
      "2019-12-10  0.001061  0.013100  0.008531 -0.009421\n",
      "...              ...       ...       ...       ...\n",
      "2024-11-26 -0.032972 -0.024162  0.006617 -0.011900\n",
      "2024-11-27 -0.016632 -0.010746 -0.011540 -0.003377\n",
      "2024-11-29  0.016913  0.006899  0.021501  0.013619\n",
      "2024-12-02 -0.004990  0.035574  0.002749  0.028386\n",
      "2024-12-03 -0.061011 -0.000563  0.011758 -0.002760\n",
      "\n",
      "[1258 rows x 4 columns]\n",
      "           Revenue    Net Income  EPS   P/E Ratio    Market Cap  \\\n",
      "INTC  5.424700e+10 -1.596100e+10  NaN         NaN  9.691310e+10   \n",
      "AMD   2.429500e+10  1.826000e+09  NaN  124.543850  2.304066e+11   \n",
      "NVDA  9.630700e+10  5.300800e+10  NaN   55.220470  3.434967e+12   \n",
      "QCOM  3.896200e+10  1.011000e+10  NaN   18.206047  1.806264e+11   \n",
      "\n",
      "      Operating Margin  \n",
      "INTC          -0.01046  \n",
      "AMD            0.10617  \n",
      "NVDA           0.62057  \n",
      "QCOM           0.26250  \n",
      "           Revenue    Net Income  EPS   P/E Ratio    Market Cap  \\\n",
      "INTC  5.424700e+10 -1.596100e+10  NaN         NaN  9.691310e+10   \n",
      "AMD   2.429500e+10  1.826000e+09  NaN  124.543850  2.304066e+11   \n",
      "NVDA  9.630700e+10  5.300800e+10  NaN   55.220470  3.434967e+12   \n",
      "QCOM  3.896200e+10  1.011000e+10  NaN   18.206047  1.806264e+11   \n",
      "\n",
      "      Operating Margin  Market Share  \n",
      "INTC          -0.01046      0.253715  \n",
      "AMD            0.10617      0.113628  \n",
      "NVDA           0.62057      0.450431  \n",
      "QCOM           0.26250      0.182226  \n"
     ]
    }
   ],
   "source": [
    "# get simple returns of each company\n",
    "simpleReturns = (df / df.shift(1)) - 1\n",
    "print(f\"Simple returns:\\n{simpleReturns}\")\n",
    "\n",
    "# get financial metrics for all companies\n",
    "financial_metrics = pd.DataFrame()\n",
    "\n",
    "for company in companies:\n",
    "    stock = yf.Ticker(company)\n",
    "    info = stock.info\n",
    "    financials = stock.financials\n",
    "    \n",
    "    # extract key metrics\n",
    "    try:\n",
    "        financial_metrics.loc[company, 'Revenue'] = info.get('totalRevenue', np.nan)\n",
    "        financial_metrics.loc[company, 'Net Income'] = info.get('netIncomeToCommon', np.nan)\n",
    "        financial_metrics.loc[company, 'EPS'] = info.get('trailingEPS', np.nan)\n",
    "        financial_metrics.loc[company, 'P/E Ratio'] = info.get('trailingPE', np.nan)\n",
    "        financial_metrics.loc[company, 'Market Cap'] = info.get('marketCap', np.nan)\n",
    "        financial_metrics.loc[company, 'Operating Margin'] = info.get('operatingMargins', np.nan)\n",
    "    except:\n",
    "        continue\n",
    "\n",
    "# calculate market share based on revenue\n",
    "financial_metrics['Market Share'] = financial_metrics['Revenue'] / financial_metrics['Revenue'].sum()\n",
    "\n",
    "print(financial_metrics)"
   ]
  },
  {
   "cell_type": "markdown",
   "metadata": {},
   "source": [
    "## Market and Competitive Analysis"
   ]
  },
  {
   "cell_type": "code",
   "execution_count": null,
   "metadata": {},
   "outputs": [],
   "source": []
  },
  {
   "cell_type": "markdown",
   "metadata": {},
   "source": [
    "## Valuation Metrics"
   ]
  },
  {
   "cell_type": "code",
   "execution_count": null,
   "metadata": {},
   "outputs": [],
   "source": []
  }
 ],
 "metadata": {
  "kernelspec": {
   "display_name": "Python 3",
   "language": "python",
   "name": "python3"
  },
  "language_info": {
   "codemirror_mode": {
    "name": "ipython",
    "version": 3
   },
   "file_extension": ".py",
   "mimetype": "text/x-python",
   "name": "python",
   "nbconvert_exporter": "python",
   "pygments_lexer": "ipython3",
   "version": "3.10.12"
  }
 },
 "nbformat": 4,
 "nbformat_minor": 2
}
